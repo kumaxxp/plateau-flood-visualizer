{
 "cells": [
  {
   "cell_type": "markdown",
   "metadata": {},
   "source": [
    "# PLATEAU データ処理ノートブック\n",
    "\n",
    "このノートブックでは、PLATEAUの3D都市モデルデータを取得・処理し、水没シミュレーションで使用できる形式に変換します。"
   ]
  },
  {
   "cell_type": "markdown",
   "metadata": {},
   "source": [
    "## 1. 必要なライブラリのインポート"
   ]
  },
  {
   "cell_type": "code",
   "execution_count": 1,
   "metadata": {},
   "outputs": [
    {
     "ename": "ModuleNotFoundError",
     "evalue": "No module named 'geopandas'",
     "output_type": "error",
     "traceback": [
      "\u001b[31m---------------------------------------------------------------------------\u001b[39m",
      "\u001b[31mModuleNotFoundError\u001b[39m                       Traceback (most recent call last)",
      "\u001b[36mCell\u001b[39m\u001b[36m \u001b[39m\u001b[32mIn[1]\u001b[39m\u001b[32m, line 1\u001b[39m\n\u001b[32m----> \u001b[39m\u001b[32m1\u001b[39m \u001b[38;5;28;01mimport\u001b[39;00m \u001b[34;01mgeopandas\u001b[39;00m \u001b[38;5;28;01mas\u001b[39;00m \u001b[34;01mgpd\u001b[39;00m\n\u001b[32m      2\u001b[39m \u001b[38;5;28;01mimport\u001b[39;00m \u001b[34;01mpandas\u001b[39;00m \u001b[38;5;28;01mas\u001b[39;00m \u001b[34;01mpd\u001b[39;00m\n\u001b[32m      3\u001b[39m \u001b[38;5;28;01mimport\u001b[39;00m \u001b[34;01mnumpy\u001b[39;00m \u001b[38;5;28;01mas\u001b[39;00m \u001b[34;01mnp\u001b[39;00m\n",
      "\u001b[31mModuleNotFoundError\u001b[39m: No module named 'geopandas'"
     ]
    }
   ],
   "source": [
    "import geopandas as gpd\n",
    "import pandas as pd\n",
    "import numpy as np\n",
    "from pathlib import Path\n",
    "import json\n",
    "import requests\n",
    "import zipfile\n",
    "import io\n",
    "from tqdm.notebook import tqdm\n",
    "import warnings\n",
    "import folium\n",
    "warnings.filterwarnings('ignore')\n",
    "\n",
    "print(\"✅ ライブラリのインポート完了\")"
   ]
  },
  {
   "cell_type": "markdown",
   "metadata": {},
   "source": [
    "## 2. データディレクトリの設定"
   ]
  },
  {
   "cell_type": "code",
   "execution_count": null,
   "metadata": {},
   "outputs": [],
   "source": [
    "# プロジェクトのルートディレクトリ\n",
    "PROJECT_ROOT = Path.cwd().parent if 'notebooks' in str(Path.cwd()) else Path.cwd()\n",
    "DATA_DIR = PROJECT_ROOT / \"data\" / \"plateau\"\n",
    "OUTPUT_DIR = PROJECT_ROOT / \"outputs\"\n",
    "\n",
    "# ディレクトリ作成\n",
    "DATA_DIR.mkdir(parents=True, exist_ok=True)\n",
    "OUTPUT_DIR.mkdir(parents=True, exist_ok=True)\n",
    "\n",
    "print(f\"📁 データディレクトリ: {DATA_DIR}\")\n",
    "print(f\"📁 出力ディレクトリ: {OUTPUT_DIR}\")"
   ]
  },
  {
   "cell_type": "markdown",
   "metadata": {},
   "source": [
    "## 3. 既存のGMLファイルの確認"
   ]
  },
  {
   "cell_type": "code",
   "execution_count": null,
   "metadata": {},
   "outputs": [],
   "source": [
    "# GMLファイルを検索\n",
    "gml_files = list(DATA_DIR.glob(\"*_bldg_*.gml\"))\n",
    "geojson_files = list(DATA_DIR.glob(\"*.geojson\"))\n",
    "\n",
    "print(f\"📊 データファイル統計:\")\n",
    "print(f\"  GMLファイル: {len(gml_files)}個\")\n",
    "print(f\"  GeoJSONファイル: {len(geojson_files)}個\")\n",
    "\n",
    "if gml_files:\n",
    "    print(f\"\\n最初の5個のGMLファイル:\")\n",
    "    for f in gml_files[:5]:\n",
    "        print(f\"  - {f.name}\")\n",
    "\n",
    "if geojson_files:\n",
    "    print(f\"\\nGeoJSONファイル:\")\n",
    "    for f in geojson_files:\n",
    "        print(f\"  - {f.name}\")"
   ]
  },
  {
   "cell_type": "markdown",
   "metadata": {},
   "source": [
    "## 4. GMLファイルの処理（CityGML → GeoJSON変換）"
   ]
  },
  {
   "cell_type": "code",
   "execution_count": null,
   "metadata": {},
   "outputs": [],
   "source": [
    "def process_gml_files(gml_files, max_files=10, sample_rate=1.0):\n",
    "    \"\"\"\n",
    "    GMLファイルを処理してGeoDataFrameに変換\n",
    "    \n",
    "    Parameters:\n",
    "    -----------\n",
    "    gml_files : list\n",
    "        処理するGMLファイルのリスト\n",
    "    max_files : int\n",
    "        処理する最大ファイル数\n",
    "    sample_rate : float\n",
    "        各ファイルからサンプリングする割合（0.0-1.0）\n",
    "    \"\"\"\n",
    "    all_buildings = []\n",
    "    processed_files = 0\n",
    "    \n",
    "    # 処理するファイル数を制限\n",
    "    files_to_process = gml_files[:min(max_files, len(gml_files))]\n",
    "    \n",
    "    print(f\"🔄 {len(files_to_process)}個のGMLファイルを処理します...\")\n",
    "    \n",
    "    for gml_file in tqdm(files_to_process, desc=\"GML処理中\"):\n",
    "        try:\n",
    "            # GMLファイルを読み込み\n",
    "            gdf = gpd.read_file(gml_file, driver='GML')\n",
    "            \n",
    "            if len(gdf) == 0:\n",
    "                continue\n",
    "            \n",
    "            # サンプリング\n",
    "            if sample_rate < 1.0:\n",
    "                gdf = gdf.sample(frac=sample_rate)\n",
    "            \n",
    "            # 建物データを抽出\n",
    "            for idx, row in gdf.iterrows():\n",
    "                if row.geometry is None:\n",
    "                    continue\n",
    "                \n",
    "                building = {\n",
    "                    'geometry': row.geometry,\n",
    "                    'source_file': gml_file.name\n",
    "                }\n",
    "                \n",
    "                # 高さ情報を取得\n",
    "                height_columns = ['measuredHeight', 'bldg:measuredHeight', 'height', 'Height']\n",
    "                height = 20  # デフォルト値\n",
    "                \n",
    "                for col in height_columns:\n",
    "                    if col in row and pd.notna(row[col]):\n",
    "                        try:\n",
    "                            height = float(row[col])\n",
    "                            break\n",
    "                        except:\n",
    "                            pass\n",
    "                \n",
    "                building['height'] = height\n",
    "                building['ground_height'] = 0\n",
    "                \n",
    "                # その他の属性\n",
    "                if 'usage' in row:\n",
    "                    building['usage'] = str(row['usage'])\n",
    "                \n",
    "                all_buildings.append(building)\n",
    "            \n",
    "            processed_files += 1\n",
    "            \n",
    "        except Exception as e:\n",
    "            print(f\"\\n⚠️ エラー ({gml_file.name}): {str(e)[:100]}\")\n",
    "            continue\n",
    "    \n",
    "    print(f\"\\n✅ {processed_files}個のファイルから{len(all_buildings)}件の建物を抽出\")\n",
    "    \n",
    "    if all_buildings:\n",
    "        return gpd.GeoDataFrame(all_buildings)\n",
    "    else:\n",
    "        return None"
   ]
  },
  {
   "cell_type": "code",
   "execution_count": null,
   "metadata": {},
   "outputs": [],
   "source": [
    "# GMLファイルを処理\n",
    "if gml_files:\n",
    "    buildings_gdf = process_gml_files(gml_files, max_files=10, sample_rate=0.5)\n",
    "    \n",
    "    if buildings_gdf is not None:\n",
    "        # 座標系を設定\n",
    "        buildings_gdf.set_crs('EPSG:4326', allow_override=True, inplace=True)\n",
    "        \n",
    "        # 統計情報\n",
    "        print(f\"\\n📊 建物データ統計:\")\n",
    "        print(f\"  総建物数: {len(buildings_gdf):,}\")\n",
    "        print(f\"  平均高さ: {buildings_gdf['height'].mean():.1f}m\")\n",
    "        print(f\"  最高: {buildings_gdf['height'].max():.1f}m\")\n",
    "        print(f\"  最低: {buildings_gdf['height'].min():.1f}m\")\n",
    "        \n",
    "        # GeoJSONとして保存\n",
    "        output_file = DATA_DIR / \"tokyo_bldg.geojson\"\n",
    "        buildings_gdf.to_file(output_file, driver='GeoJSON')\n",
    "        print(f\"\\n💾 保存完了: {output_file}\")\n",
    "else:\n",
    "    print(\"⚠️ GMLファイルが見つかりません\")\n",
    "    buildings_gdf = None"
   ]
  },
  {
   "cell_type": "markdown",
   "metadata": {},
   "source": [
    "## 5. 代替データの生成（GMLがない場合）"
   ]
  },
  {
   "cell_type": "code",
   "execution_count": null,
   "metadata": {},
   "outputs": [],
   "source": [
    "def create_sample_tokyo_data():\n",
    "    \"\"\"東京の主要エリアのサンプルデータを生成\"\"\"\n",
    "    \n",
    "    # 東京の主要エリア\n",
    "    areas = {\n",
    "        \"東京駅\": {\"center\": [139.7671, 35.6812], \"buildings\": 50, \"avg_height\": 150},\n",
    "        \"新宿\": {\"center\": [139.7003, 35.6938], \"buildings\": 60, \"avg_height\": 180},\n",
    "        \"渋谷\": {\"center\": [139.7019, 35.6580], \"buildings\": 50, \"avg_height\": 120},\n",
    "        \"品川\": {\"center\": [139.7388, 35.6284], \"buildings\": 40, \"avg_height\": 100},\n",
    "        \"お台場\": {\"center\": [139.7744, 35.6311], \"buildings\": 30, \"avg_height\": 60},\n",
    "    }\n",
    "    \n",
    "    from shapely.geometry import Polygon\n",
    "    \n",
    "    all_buildings = []\n",
    "    \n",
    "    for area_name, info in areas.items():\n",
    "        lon, lat = info[\"center\"]\n",
    "        \n",
    "        for i in range(info[\"buildings\"]):\n",
    "            # ランダムな位置\n",
    "            offset_lon = np.random.normal(0, 0.002)\n",
    "            offset_lat = np.random.normal(0, 0.002)\n",
    "            \n",
    "            # 建物の位置\n",
    "            bldg_lon = lon + offset_lon\n",
    "            bldg_lat = lat + offset_lat\n",
    "            \n",
    "            # 建物のサイズ\n",
    "            size = 0.0001 * np.random.uniform(0.5, 1.5)\n",
    "            \n",
    "            # ポリゴン作成\n",
    "            poly = Polygon([\n",
    "                (bldg_lon - size/2, bldg_lat - size/2),\n",
    "                (bldg_lon + size/2, bldg_lat - size/2),\n",
    "                (bldg_lon + size/2, bldg_lat + size/2),\n",
    "                (bldg_lon - size/2, bldg_lat + size/2)\n",
    "            ])\n",
    "            \n",
    "            # 高さ\n",
    "            height = np.random.normal(info[\"avg_height\"], info[\"avg_height\"] * 0.3)\n",
    "            height = max(10, min(250, height))  # 10-250mに制限\n",
    "            \n",
    "            all_buildings.append({\n",
    "                'geometry': poly,\n",
    "                'height': height,\n",
    "                'ground_height': np.random.uniform(0, 5),\n",
    "                'area': area_name\n",
    "            })\n",
    "    \n",
    "    return gpd.GeoDataFrame(all_buildings, crs='EPSG:4326')\n",
    "\n",
    "# データがない場合はサンプルデータを生成\n",
    "if buildings_gdf is None:\n",
    "    print(\"📍 サンプルデータを生成します...\")\n",
    "    buildings_gdf = create_sample_tokyo_data()\n",
    "    \n",
    "    # 保存\n",
    "    output_file = DATA_DIR / \"tokyo_bldg.geojson\"\n",
    "    buildings_gdf.to_file(output_file, driver='GeoJSON')\n",
    "    print(f\"✅ サンプルデータを保存: {output_file}\")\n",
    "    print(f\"   建物数: {len(buildings_gdf)}\")"
   ]
  },
  {
   "cell_type": "markdown",
   "metadata": {},
   "source": [
    "## 6. データの可視化"
   ]
  },
  {
   "cell_type": "code",
   "execution_count": null,
   "metadata": {},
   "outputs": [],
   "source": [
    "# 建物の分布を地図上に表示\n",
    "if buildings_gdf is not None and len(buildings_gdf) > 0:\n",
    "    # 中心座標を計算\n",
    "    bounds = buildings_gdf.total_bounds\n",
    "    center_lat = (bounds[1] + bounds[3]) / 2\n",
    "    center_lon = (bounds[0] + bounds[2]) / 2\n",
    "    \n",
    "    # Foliumマップを作成\n",
    "    m = folium.Map(location=[center_lat, center_lon], zoom_start=13)\n",
    "    \n",
    "    # 建物を追加（最大100個まで）\n",
    "    for idx, building in buildings_gdf.head(100).iterrows():\n",
    "        # ポリゴンの中心を計算\n",
    "        centroid = building.geometry.centroid\n",
    "        \n",
    "        # 高さによって色を変える\n",
    "        if building['height'] > 100:\n",
    "            color = 'red'\n",
    "        elif building['height'] > 50:\n",
    "            color = 'orange'\n",
    "        else:\n",
    "            color = 'green'\n",
    "        \n",
    "        # マーカーを追加\n",
    "        folium.CircleMarker(\n",
    "            location=[centroid.y, centroid.x],\n",
    "            radius=3,\n",
    "            popup=f\"高さ: {building['height']:.1f}m\",\n",
    "            color=color,\n",
    "            fill=True,\n",
    "            fillColor=color\n",
    "        ).add_to(m)\n",
    "    \n",
    "    # 地図を表示\n",
    "    display(m)\n",
    "    print(f\"\\n🗺️ {min(100, len(buildings_gdf))}件の建物を地図上に表示\")"
   ]
  },
  {
   "cell_type": "markdown",
   "metadata": {},
   "source": [
    "## 7. 水没シミュレーションのテスト"
   ]
  },
  {
   "cell_type": "code",
   "execution_count": null,
   "metadata": {},
   "outputs": [],
   "source": [
    "# シミュレーション用にパスを追加\n",
    "import sys\n",
    "sys.path.append(str(PROJECT_ROOT / 'src'))\n",
    "\n",
    "try:\n",
    "    from simulator import FloodSimulator\n",
    "    from visualizer import FloodVisualizer\n",
    "    \n",
    "    # シミュレーション実行\n",
    "    sim = FloodSimulator(\"tokyo\", data_dir=DATA_DIR)\n",
    "    sim.load_buildings()\n",
    "    \n",
    "    # 水位10mでシミュレーション\n",
    "    results = sim.simulate_flood(water_level=10.0)\n",
    "    \n",
    "    print(\"\\n🌊 シミュレーション結果（水位10m）:\")\n",
    "    print(f\"  完全水没: {results['flooded_buildings']}棟 ({results['flooded_percentage']:.1f}%)\")\n",
    "    print(f\"  部分水没: {results['partially_flooded']}棟\")\n",
    "    print(f\"  影響率: {results['affected_percentage']:.1f}%\")\n",
    "    \n",
    "except Exception as e:\n",
    "    print(f\"⚠️ シミュレーションエラー: {e}\")\n",
    "    print(\"src/simulator.pyが必要です\")"
   ]
  },
  {
   "cell_type": "markdown",
   "metadata": {},
   "source": [
    "## 8. 複数水位での影響分析"
   ]
  },
  {
   "cell_type": "code",
   "execution_count": null,
   "metadata": {},
   "outputs": [],
   "source": [
    "# 複数の水位でシミュレーション\n",
    "water_levels = [2, 5, 10, 15, 20, 30]\n",
    "results_list = []\n",
    "\n",
    "if buildings_gdf is not None:\n",
    "    print(\"📊 水位別影響分析:\")\n",
    "    print(\"-\" * 50)\n",
    "    print(f\"{'水位(m)':>8} | {'影響建物':>10} | {'完全水没':>10} | {'影響率':>8}\")\n",
    "    print(\"-\" * 50)\n",
    "    \n",
    "    for level in water_levels:\n",
    "        # 簡易シミュレーション\n",
    "        flood_depth = level - buildings_gdf['ground_height']\n",
    "        flooded = (flood_depth > buildings_gdf['height']).sum()\n",
    "        partial = ((flood_depth > 0) & (flood_depth <= buildings_gdf['height'])).sum()\n",
    "        affected_pct = (flooded + partial) / len(buildings_gdf) * 100\n",
    "        \n",
    "        print(f\"{level:8.0f} | {flooded + partial:10d} | {flooded:10d} | {affected_pct:7.1f}%\")\n",
    "        \n",
    "        results_list.append({\n",
    "            'water_level': level,\n",
    "            'flooded': flooded,\n",
    "            'partial': partial,\n",
    "            'affected_pct': affected_pct\n",
    "        })\n",
    "    \n",
    "    print(\"-\" * 50)"
   ]
  },
  {
   "cell_type": "markdown",
   "metadata": {},
   "source": [
    "## 9. 結果の保存"
   ]
  },
  {
   "cell_type": "code",
   "execution_count": null,
   "metadata": {},
   "outputs": [],
   "source": [
    "# 処理結果のサマリーを保存\n",
    "summary = {\n",
    "    'processed_date': pd.Timestamp.now().isoformat(),\n",
    "    'data_source': 'PLATEAU GML' if gml_files else 'Sample Data',\n",
    "    'total_buildings': len(buildings_gdf) if buildings_gdf is not None else 0,\n",
    "    'simulation_results': results_list\n",
    "}\n",
    "\n",
    "# JSONとして保存\n",
    "summary_file = OUTPUT_DIR / 'plateau_processing_summary.json'\n",
    "with open(summary_file, 'w', encoding='utf-8') as f:\n",
    "    json.dump(summary, f, indent=2, ensure_ascii=False)\n",
    "\n",
    "print(f\"📄 サマリーを保存: {summary_file}\")\n",
    "print(\"\\n✅ 処理完了！\")\n",
    "print(\"\\n次のステップ:\")\n",
    "print(\"1. python src/main.py simulate tokyo --level 10\")\n",
    "print(\"2. python src/main.py server --port 8001\")"
   ]
  }
 ],
 "metadata": {
  "kernelspec": {
   "display_name": "Python 3 (ipykernel)",
   "language": "python",
   "name": "python3"
  },
  "language_info": {
   "codemirror_mode": {
    "name": "ipython",
    "version": 3
   },
   "file_extension": ".py",
   "mimetype": "text/x-python",
   "name": "python",
   "nbconvert_exporter": "python",
   "pygments_lexer": "ipython3",
   "version": "3.11.13"
  }
 },
 "nbformat": 4,
 "nbformat_minor": 4
}
