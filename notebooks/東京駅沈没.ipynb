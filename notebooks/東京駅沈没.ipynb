{
 "cells": [
  {
   "cell_type": "markdown",
   "id": "9469b2b2-06eb-4f20-9ab9-a63d3b429753",
   "metadata": {},
   "source": [
    "以下、整理した実装"
   ]
  },
  {
   "cell_type": "code",
   "execution_count": 31,
   "id": "187d7ab7-7872-4542-93f7-3992968e7e18",
   "metadata": {},
   "outputs": [],
   "source": [
    "import pydeck as pdk\n",
    "from plateaukit import load_dataset\n",
    "import geopandas as gpd\n",
    "import pandas as pd, numpy as np\n",
    "from shapely.geometry import box, mapping\n",
    "\n",
    "# ===== パラメータ =====\n",
    "CENTER_ADDR = \"東京都千代田区丸の内1-9-1\"  # 東京駅 丸の内口\n",
    "SIZE_M = [1000, 1000]                       # 表示範囲 [m]（1000m四方）\n",
    "MAP_SIZE = 900                               # 表示サイズ（px）← 正方形で見やすい\n",
    "\n",
    "# ===== データ読み込み（千代田区）＆範囲切り出し =====\n",
    "ds = load_dataset(\"plateau-13101-chiyoda-ku-2023\")\n",
    "area = ds.area_from_address(CENTER_ADDR, size=SIZE_M)\n",
    "gdf  = area.gdf.copy()\n",
    "\n",
    "# 高さ（measuredHeight 優先。なければ storeys×3m で近似）\n",
    "if \"measuredHeight\" in gdf.columns:\n",
    "    h = pd.to_numeric(gdf[\"measuredHeight\"], errors=\"coerce\").fillna(0.0)\n",
    "else:\n",
    "    cand = [c for c in gdf.columns if isinstance(c,str) and \"storeys\" in c.lower()]\n",
    "    h = (pd.to_numeric(gdf[cand[0]], errors=\"coerce\").fillna(0.0)*3.0) if cand else pd.Series(0.0, index=gdf.index)\n",
    "\n",
    "# WGS84（pydeck は経緯度）\n",
    "gdf_ll = gdf.to_crs(4326) if gdf.crs and gdf.crs.to_epsg()!=4326 else gdf\n",
    "\n",
    "# 表示範囲と“水面ポリゴン”（でかい青い板）\n",
    "minx, miny, maxx, maxy = gdf_ll.total_bounds\n",
    "pad = 0.001\n",
    "water_poly = box(minx-pad, miny-pad, maxx+pad, maxy+pad)\n",
    "water_geojson = {\n",
    "    \"type\":\"FeatureCollection\",\n",
    "    \"features\":[{\"type\":\"Feature\",\"geometry\": mapping(water_poly),\n",
    "                 \"properties\":{\"color\":[31,119,180,90]}}]  # 半透明の青\n",
    "}\n",
    "layer_water = pdk.Layer(\n",
    "    \"GeoJsonLayer\", water_geojson,\n",
    "    stroked=False, filled=True,\n",
    "    get_fill_color=\"properties.color\",\n",
    "    pickable=False,\n",
    ")\n",
    "\n",
    "# ビュー中心\n",
    "center = [(minx+maxx)/2, (miny+maxy)/2]\n"
   ]
  },
  {
   "cell_type": "code",
   "execution_count": 25,
   "id": "9ba9203e-8ea6-445b-87d0-51b63faee060",
   "metadata": {},
   "outputs": [],
   "source": [
    "# 前提: DISP_WIDTH / DISP_HEIGHT は既に定義済み\n",
    "from shapely.geometry import mapping\n",
    "import pydeck as pdk\n",
    "from IPython.display import IFrame, display\n",
    "from time import time\n",
    "import os\n",
    "\n",
    "OUT_DIR = \"deck_out\"   # ノートブックと同じ場所に作る\n",
    "os.makedirs(OUT_DIR, exist_ok=True)\n",
    "\n",
    "def render_fixed_square(\n",
    "    WATER=100, MAP_SIZE=900, ZOOM=15.3, PITCH=55, BEARING=20,\n",
    "    BASEMAP=\"osm\", filename_prefix=\"tokyo_water\"\n",
    "):\n",
    "    # === 1) 水面からの突き出し ===\n",
    "    tip = (h - WATER).clip(lower=0.0)\n",
    "\n",
    "    # === 2) 建物GeoJSON ===\n",
    "    feats = []\n",
    "    for geom, tip_m in zip(gdf_ll.geometry, tip):\n",
    "        if geom is None or geom.is_empty or geom.geom_type not in (\"Polygon\",\"MultiPolygon\"):\n",
    "            continue\n",
    "        color = [8,81,156,255] if tip_m > 0 else [158,202,225,180]\n",
    "        feats.append({\n",
    "            \"type\": \"Feature\",\n",
    "            \"geometry\": mapping(geom),\n",
    "            \"properties\": {\"elev\": float(tip_m), \"color\": color}\n",
    "        })\n",
    "    bldg_geojson = {\"type\": \"FeatureCollection\", \"features\": feats}\n",
    "\n",
    "    layer_bldg = pdk.Layer(\n",
    "        \"GeoJsonLayer\", bldg_geojson,\n",
    "        extruded=True, wireframe=False,\n",
    "        get_elevation=\"properties.elev\",\n",
    "        get_fill_color=\"properties.color\",\n",
    "        get_line_color=[80,80,80,50],\n",
    "        pickable=True,\n",
    "    )\n",
    "\n",
    "    label = pdk.Layer(\n",
    "        \"TextLayer\",\n",
    "        [{\"name\": f\"Water = {WATER} m @ Tokyo Station\",\n",
    "          \"lon\": center[0], \"lat\": miny + 0.0006}],\n",
    "        get_position='[lon, lat]', get_text=\"name\",\n",
    "        get_size=16, get_color=[10,10,10,220],\n",
    "        get_alignment_baseline=\"'bottom'\"\n",
    "    )\n",
    "\n",
    "    # 3) ベースマップ（OSM/CARTO/Mapboxは前セルの _make_basemap を流用してOK）\n",
    "    def _make_basemap(kind=\"osm\"):\n",
    "        url = \"https://tile.openstreetmap.org/{z}/{x}/{y}.png\" if kind==\"osm\" else \\\n",
    "              \"https://cartodb-basemaps-a.global.ssl.fastly.net/light_all/{z}/{x}/{y}.png\"\n",
    "        return None, pdk.Layer(\"TileLayer\", data=url, min_zoom=0, max_zoom=19, tile_size=256, opacity=1)\n",
    "\n",
    "    map_style, base_layer = _make_basemap(BASEMAP)\n",
    "    layers = [base_layer, layer_water, layer_bldg, label] if base_layer else [layer_water, layer_bldg, label]\n",
    "\n",
    "    # ...（deck = pdk.Deck(...) まではそのまま）\n",
    "    \n",
    "    import os, time\n",
    "    OUT_DIR = \"deck_out\"\n",
    "    os.makedirs(OUT_DIR, exist_ok=True)\n",
    "    \n",
    "    ts = int(time.time())\n",
    "    html_name = f\"{filename_prefix}_{WATER}m_{MAP_SIZE}px_{ts}.html\"\n",
    "    html_rel  = f\"{OUT_DIR}/{html_name}\"      # ← ノートブックからの相対パス\n",
    "    deck.to_html(html_rel, open_browser=False, notebook_display=False)\n",
    "    \n",
    "    # 重要：IFrame の src は相対パス（files/ 付けない）\n",
    "    display(IFrame(src=html_rel, width=DISP_WIDTH, height=DISP_HEIGHT))\n"
   ]
  },
  {
   "cell_type": "code",
   "execution_count": 26,
   "id": "3cfe2aad-3156-4e93-8add-619d336dbed7",
   "metadata": {},
   "outputs": [
    {
     "data": {
      "text/html": [
       "\n",
       "        <iframe\n",
       "            width=\"1600\"\n",
       "            height=\"1000\"\n",
       "            src=\"deck_out/tokyo_water_100m_900px_1757153313.html\"\n",
       "            frameborder=\"0\"\n",
       "            allowfullscreen\n",
       "            \n",
       "        ></iframe>\n",
       "        "
      ],
      "text/plain": [
       "<IPython.lib.display.IFrame at 0x78ed007001d0>"
      ]
     },
     "metadata": {},
     "output_type": "display_data"
    },
    {
     "data": {
      "text/html": [
       "\n",
       "        <iframe\n",
       "            width=\"1600\"\n",
       "            height=\"1000\"\n",
       "            src=\"deck_out/tokyo_water_5m_2000px_1757153314.html\"\n",
       "            frameborder=\"0\"\n",
       "            allowfullscreen\n",
       "            \n",
       "        ></iframe>\n",
       "        "
      ],
      "text/plain": [
       "<IPython.lib.display.IFrame at 0x78ecf0fb9990>"
      ]
     },
     "metadata": {},
     "output_type": "display_data"
    },
    {
     "data": {
      "text/html": [
       "\n",
       "        <iframe\n",
       "            width=\"1600\"\n",
       "            height=\"1000\"\n",
       "            src=\"deck_out/tokyo_water_15m_2000px_1757153314.html\"\n",
       "            frameborder=\"0\"\n",
       "            allowfullscreen\n",
       "            \n",
       "        ></iframe>\n",
       "        "
      ],
      "text/plain": [
       "<IPython.lib.display.IFrame at 0x78ecf0b8c990>"
      ]
     },
     "metadata": {},
     "output_type": "display_data"
    },
    {
     "data": {
      "text/html": [
       "\n",
       "        <iframe\n",
       "            width=\"1600\"\n",
       "            height=\"1000\"\n",
       "            src=\"deck_out/tokyo_water_20m_2000px_1757153314.html\"\n",
       "            frameborder=\"0\"\n",
       "            allowfullscreen\n",
       "            \n",
       "        ></iframe>\n",
       "        "
      ],
      "text/plain": [
       "<IPython.lib.display.IFrame at 0x78ecf0cea110>"
      ]
     },
     "metadata": {},
     "output_type": "display_data"
    }
   ],
   "source": [
    "render_fixed_square(WATER=100, MAP_SIZE=900)\n",
    "# 連続で\n",
    "for w in [5, 15, 20]:\n",
    "    render_fixed_square(WATER=w, MAP_SIZE=2000)"
   ]
  },
  {
   "cell_type": "code",
   "execution_count": 36,
   "id": "329f9c38-1e21-4001-a444-682199314318",
   "metadata": {},
   "outputs": [],
   "source": [
    "# 追加 import（未済なら）\n",
    "import os, time\n",
    "import pydeck as pdk\n",
    "from shapely.geometry import mapping\n",
    "from IPython.display import IFrame, display\n",
    "\n",
    "# ベースマップ（トークン不要: OSM/CARTO、トークンあり: Mapbox）\n",
    "def _make_basemap(kind=\"osm\"):\n",
    "    kind = (kind or \"osm\").lower()\n",
    "    if kind == \"carto\":\n",
    "        url = \"https://cartodb-basemaps-a.global.ssl.fastly.net/light_all/{z}/{x}/{y}.png\"\n",
    "        return None, pdk.Layer(\"TileLayer\", data=url, min_zoom=0, max_zoom=19, tile_size=256, opacity=1)\n",
    "    elif kind.startswith(\"mapbox\"):\n",
    "        import os\n",
    "        token = os.getenv(\"MAPBOX_API_KEY\") or os.getenv(\"MAPBOX_TOKEN\") or \"\"\n",
    "        style = {\n",
    "            \"mapbox-light\": \"mapbox://styles/mapbox/light-v11\",\n",
    "            \"mapbox-dark\": \"mapbox://styles/mapbox/dark-v11\",\n",
    "            \"mapbox-sat\":  \"mapbox://styles/mapbox/satellite-v9\",\n",
    "        }.get(kind, \"mapbox://styles/mapbox/light-v11\")\n",
    "        if token:\n",
    "            pdk.settings.mapbox_api_key = token\n",
    "            return style, None\n",
    "        # トークン無いなら OSM にフォールバック\n",
    "    # default: OSM\n",
    "    url = \"https://tile.openstreetmap.org/{z}/{x}/{y}.png\"\n",
    "    return None, pdk.Layer(\"TileLayer\", data=url, min_zoom=0, max_zoom=19, tile_size=256, opacity=1)\n",
    "\n",
    "OUT_DIR = \"deck_out\"\n",
    "os.makedirs(OUT_DIR, exist_ok=True)\n",
    "\n",
    "def render_fixed_square(\n",
    "    WATER=100, MAP_SIZE=900, ZOOM=15.3, PITCH=55, BEARING=20,\n",
    "    BASEMAP=\"osm\", filename_prefix=\"tokyo_water\",\n",
    "    DISP_WIDTH=1600, DISP_HEIGHT=1000\n",
    "):\n",
    "    # 1) “水面からの突き出し量”\n",
    "    tip = (h - WATER).clip(lower=0.0)\n",
    "\n",
    "    # 2) 建物GeoJSON（露出で色分け）\n",
    "    EXPOSED_COLOR   = [255, 255, 255, 255]   # 白（完全不透明）\n",
    "    SUBMERGED_COLOR = [158, 202, 225, 140]   # 薄い水色（やや透過）\n",
    "    \n",
    "    feats = []\n",
    "    for geom, tip_m in zip(gdf_ll.geometry, tip):\n",
    "        if geom is None or geom.is_empty or geom.geom_type not in (\"Polygon\",\"MultiPolygon\"):\n",
    "            continue\n",
    "        color = EXPOSED_COLOR if float(tip_m) > 0 else SUBMERGED_COLOR\n",
    "        feats.append({\n",
    "            \"type\": \"Feature\",\n",
    "            \"geometry\": mapping(geom),\n",
    "            \"properties\": {\n",
    "                \"elev\": float(tip_m),   # “水面からの突き出し量”だけ押し出す\n",
    "                \"color\": color\n",
    "            }\n",
    "        })\n",
    "    bldg_geojson = {\"type\": \"FeatureCollection\", \"features\": feats}\n",
    "\n",
    "    layer_bldg = pdk.Layer(\n",
    "        \"GeoJsonLayer\", bldg_geojson,\n",
    "        extruded=True, wireframe=False, stroked=True,\n",
    "        get_elevation=\"properties.elev\",\n",
    "        get_fill_color=\"properties.color\",\n",
    "        get_line_color=[60, 60, 60, 120],   # 薄いグレーの輪郭\n",
    "        line_width_min_pixels=0.5,\n",
    "        pickable=True,\n",
    "    )\n",
    "    \n",
    "    label = pdk.Layer(\n",
    "        \"TextLayer\",\n",
    "        [{\"name\": f\"Water = {WATER} m @ Tokyo Station\",\n",
    "          \"lon\": center[0], \"lat\": miny + 0.0006}],\n",
    "        get_position='[lon, lat]', get_text=\"name\",\n",
    "        get_size=16, get_color=[10,10,10,220],\n",
    "        get_alignment_baseline=\"'bottom'\"\n",
    "    )\n",
    "\n",
    "    # 3) ベースマップ\n",
    "    map_style, base_layer = _make_basemap(BASEMAP)\n",
    "    layers = ([base_layer] if base_layer else []) + [layer_water, layer_bldg, label]\n",
    "\n",
    "    deck = pdk.Deck(\n",
    "        layers=layers,\n",
    "        initial_view_state=pdk.ViewState(\n",
    "            longitude=center[0], latitude=center[1],\n",
    "            zoom=ZOOM, pitch=PITCH, bearing=BEARING\n",
    "        ),\n",
    "        map_style=map_style,\n",
    "        width=MAP_SIZE, height=MAP_SIZE,\n",
    "        parameters={\"cull\": True},\n",
    "    )\n",
    "\n",
    "    # 4) HTMLを保存 → 相対パスでIFrameに埋め込み（No /files, No ?v=）\n",
    "    ts = int(time.time())\n",
    "    html_name = f\"{filename_prefix}_{WATER}m_{MAP_SIZE}px_{ts}.html\"\n",
    "    html_rel  = f\"{OUT_DIR}/{html_name}\"\n",
    "    deck.to_html(html_rel, open_browser=False, notebook_display=False)\n",
    "    display(IFrame(src=html_rel, width=DISP_WIDTH, height=DISP_HEIGHT))\n"
   ]
  },
  {
   "cell_type": "code",
   "execution_count": 37,
   "id": "a1d6b042-b022-48c6-8265-48212c8bb50a",
   "metadata": {},
   "outputs": [
    {
     "data": {
      "text/html": [
       "\n",
       "        <iframe\n",
       "            width=\"1600\"\n",
       "            height=\"1000\"\n",
       "            src=\"deck_out/tokyo_water_15m_900px_1757159303.html\"\n",
       "            frameborder=\"0\"\n",
       "            allowfullscreen\n",
       "            \n",
       "        ></iframe>\n",
       "        "
      ],
      "text/plain": [
       "<IPython.lib.display.IFrame at 0x78ed10196e10>"
      ]
     },
     "metadata": {},
     "output_type": "display_data"
    }
   ],
   "source": [
    "# CARTO（白地図）+ 15m\n",
    "render_fixed_square(WATER=15, MAP_SIZE=900, BASEMAP=\"carto\")\n"
   ]
  },
  {
   "cell_type": "code",
   "execution_count": null,
   "id": "679aecfb-d461-47b2-b404-4fe8842633b6",
   "metadata": {},
   "outputs": [],
   "source": []
  }
 ],
 "metadata": {
  "kernelspec": {
   "display_name": "Python (plateau_geo)",
   "language": "python",
   "name": "plateau_geo"
  },
  "language_info": {
   "codemirror_mode": {
    "name": "ipython",
    "version": 3
   },
   "file_extension": ".py",
   "mimetype": "text/x-python",
   "name": "python",
   "nbconvert_exporter": "python",
   "pygments_lexer": "ipython3",
   "version": "3.11.13"
  }
 },
 "nbformat": 4,
 "nbformat_minor": 5
}
