{
  "cells": [
    {
      "cell_type": "markdown",
      "metadata": {},
      "source": [
        "# PLATEAU Flood Visualization Example\n",
        "\u6c34\u6ca1\u30b7\u30df\u30e5\u30ec\u30fc\u30b7\u30e7\u30f3\u306e\u5b9f\u884c\u4f8b"
      ]
    },
    {
      "cell_type": "code",
      "execution_count": null,
      "metadata": {},
      "outputs": [],
      "source": [
        "import sys\n",
        "sys.path.append('../src')\n",
        "\n",
        "from simulator import FloodSimulator\n",
        "from visualizer import FloodVisualizer\n",
        "from generator import MockGenerator"
      ]
    }
  ],
  "metadata": {
    "kernelspec": {
      "display_name": "plateau_env",
      "language": "python",
      "name": "plateau_env"
    }
  },
  "nbformat": 4,
  "nbformat_minor": 4
}